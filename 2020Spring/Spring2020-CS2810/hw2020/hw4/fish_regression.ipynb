{
 "cells": [
  {
   "cell_type": "markdown",
   "metadata": {},
   "source": [
    "## Line of Best Fit Assignment\n",
    "This assignment walks through the creation of a line of best fit using real data.\n",
    "\n",
    "This notebook was heavily inspired by [Gilbert Strang's lecture 16](https://www.youtube.com/watch?v=osh80YCg_GM&list=PL702104147583D7DA&index=16) (we use his 3 point regression example verbatim).\n",
    "\n",
    "## Line of Best Fit Example\n",
    "\n",
    "The following is a very small example that fits some points as well as possible with a line of the form $y = mx + b$."
   ]
  },
  {
   "cell_type": "code",
   "execution_count": 3,
   "metadata": {},
   "outputs": [
    {
     "data": {
      "text/plain": [
       "<matplotlib.collections.PathCollection at 0x111fea320>"
      ]
     },
     "execution_count": 3,
     "metadata": {},
     "output_type": "execute_result"
    }
   ],
   "source": [
    "import numpy as np\n",
    "import matplotlib.pyplot as plt\n",
    "\n",
    "plt.scatter([1, 2, 3], [1, 2, 2])"
   ]
  },
  {
   "cell_type": "markdown",
   "metadata": {},
   "source": [
    "We'd like to fit a model of the form $y = mx + b$.  If we can make one line through all the points above, then we've solved:\n",
    "\n",
    "$$ b + m (1) = (1) \\\\\n",
    "b + m (2) = (2) \\\\\n",
    "b + m (3) = (2)$$\n",
    "\n",
    "Which is equivalent to:\n",
    "\n",
    "$$ \\begin{bmatrix}  1 & 1 \\\\  1 & 2\\\\  1 & 3 \\end{bmatrix} \\begin{bmatrix} b \\\\ m \\end{bmatrix} = \\begin{bmatrix} 1 \\\\ 2 \\\\ 2 \\end{bmatrix}$$\n",
    "\n",
    "This equation is the familiar $A\\vec{x} = \\vec{y}$ for $A =  \\begin{bmatrix}  1 & 1 \\\\  1 & 2\\\\  1 & 3 \\end{bmatrix}$ and $\\vec{y} = \\begin{bmatrix} 1 \\\\ 2 \\\\ 2 \\end{bmatrix}$.  By inspecting this equation, we can see that there isn't a solution.  Instead of giving up, what if we found some $\\vec{p}$ which is close to $\\vec{y}$ for which $A\\vec{x} = \\vec{p}$ is solvable (see two bullet point conditions above).  Similar to the projection above, we know that the projection of $\\vec{y}$ into the span of the columns of $A$ will do the trick: $\\vec{p} = A(A^T A)^{-1}A^T \\vec{y}$"
   ]
  },
  {
   "cell_type": "code",
   "execution_count": 4,
   "metadata": {},
   "outputs": [
    {
     "data": {
      "image/png": "[encoded data removed]",
      "text/plain": [
       "<matplotlib.figure.Figure at 0x112097470>"
      ]
     },
     "metadata": {},
     "output_type": "display_data"
    }
   ],
   "source": [
    "import numpy as np\n",
    "import seaborn as sns\n",
    "import matplotlib.pyplot as plt\n",
    "\n",
    "A = np.array([[1, 1],\n",
    "              [1, 2],\n",
    "              [1, 3]])\n",
    "\n",
    "y = np.array([[1],\n",
    "              [2],\n",
    "              [2]])\n",
    "\n",
    "p = A @ np.linalg.inv(A.T @ A) @ A.T @ y\n",
    "\n",
    "# the A[:, 1] indexes into A to grab only the first column\n",
    "# see https://docs.scipy.org/doc/numpy/reference/arrays.indexing.html\n",
    "plt.scatter(A[:, 1], y[:, 0], label='target points')\n",
    "plt.plot(A[:, 1], p[:, 0], label='line of best fit');\n",
    "plt.xlim(0, 3.5)\n",
    "plt.ylim(0, 3)\n",
    "plt.legend();"
   ]
  },
  {
   "cell_type": "markdown",
   "metadata": {},
   "source": [
    "and what if we're only interested in the line's parameters (its slope and intercept)?  Observe that:\n",
    "\n",
    "$\\begin{bmatrix} b \\\\ m \\end{bmatrix} = (A^T  A)^{-1} A^T \\vec{y}$\n",
    "\n",
    "so that:"
   ]
  },
  {
   "cell_type": "code",
   "execution_count": 5,
   "metadata": {},
   "outputs": [
    {
     "name": "stdout",
     "output_type": "stream",
     "text": [
      "[0.66666667]\n",
      "[0.5]\n"
     ]
    }
   ],
   "source": [
    "b,m = np.linalg.inv(A.T @ A) @ A.T @ y\n",
    "print(b)\n",
    "print(m)"
   ]
  },
  {
   "cell_type": "markdown",
   "metadata": {},
   "source": [
    "In other words our best fit line has intercept $b = \\frac{2}{3}$ and slope $m = \\frac{1}{2}$."
   ]
  },
  {
   "cell_type": "markdown",
   "metadata": {},
   "source": [
    "\n",
    "## Lines of Best Fish\n",
    "\n",
    "It may be more fun to take a look at a real dataset.  Not that we want to lean too heavily on one application, but we found a [great fish dataset](https://www.kaggle.com/aungpyaeap/fish-market) which serves this purpose.  There's a bit more software below which manages the dataset itself, but the core linear algebra is the same as above.  \n",
    "\n",
    "### Loading Data\n",
    "\n",
    "The `pd.read_csv('./fish_data.csv')` line below looks in the same directory as the `.ipynb` for `fish_data.csv`.  Make sure you've downloaded it and placed it in the appropriate directory so the data may be loaded.  (CSV\n",
    "refers to \"comma separated values,\" a common way of storing simple tables as text.  And Pandas is a popular Python library for data science.)\n",
    "\n",
    "This first block of code just loads the data and prints a bit of it for us to examine.  Take a peek by opening the csv itself too.  We use the [`Counter` object](https://docs.python.org/3/library/collections.html) below to count the number of each type of fish in the dataset."
   ]
  },
  {
   "cell_type": "code",
   "execution_count": 6,
   "metadata": {},
   "outputs": [
    {
     "name": "stdout",
     "output_type": "stream",
     "text": [
      "    Species  Weight  Length1  Length2  Length3   Height   Width\n",
      "0     Bream   242.0     23.2     25.4     30.0  11.5200  4.0200\n",
      "1     Bream   290.0     24.0     26.3     31.2  12.4800  4.3056\n",
      "2     Bream   340.0     23.9     26.5     31.1  12.3778  4.6961\n",
      "3     Bream   363.0     26.3     29.0     33.5  12.7300  4.4555\n",
      "4     Bream   430.0     26.5     29.0     34.0  12.4440  5.1340\n",
      "..      ...     ...      ...      ...      ...      ...     ...\n",
      "154   Smelt    12.2     11.5     12.2     13.4   2.0904  1.3936\n",
      "155   Smelt    13.4     11.7     12.4     13.5   2.4300  1.2690\n",
      "156   Smelt    12.2     12.1     13.0     13.8   2.2770  1.2558\n",
      "157   Smelt    19.7     13.2     14.3     15.2   2.8728  2.0672\n",
      "158   Smelt    19.9     13.8     15.0     16.2   2.9322  1.8792\n",
      "\n",
      "[159 rows x 7 columns]\n",
      "Counter({'Perch': 56, 'Bream': 35, 'Roach': 20, 'Pike': 17, 'Smelt': 14, 'Parkki': 11, 'Whitefish': 6})\n"
     ]
    }
   ],
   "source": [
    "import pandas as pd\n",
    "from collections import Counter\n",
    "\n",
    "# fish_data.csv must be in same folder as this ipynb\n",
    "df = pd.read_csv('./fish_data.csv')\n",
    "\n",
    "print(df)\n",
    "print(Counter(df['Species']))"
   ]
  },
  {
   "cell_type": "markdown",
   "metadata": {},
   "source": [
    "### Part A (6 points)\n",
    "Now let's build our line of best fit.  The function below is incomplete.  Fill in the three missing `your answer here` components."
   ]
  },
  {
   "cell_type": "code",
   "execution_count": 19,
   "metadata": {},
   "outputs": [],
   "source": [
    "def scatter_fit_fish(species, a_feat, b_feat, df):\n",
    "    \"\"\" scatters fish data points, fits a straight line between them\n",
    "    \n",
    "    model:\n",
    "    \n",
    "    b = x0 + x1 * a\n",
    "    \n",
    "    Args:\n",
    "        species (str): specifies which fish data to use ('Perch', 'Bream',\n",
    "            'Roach', 'Pike', 'Smelt', 'Parkki' or 'Whitefish')\n",
    "        a_feat (str): which feature to plot along x axis \n",
    "            (Weight  Length1  Length2  Length3   Height   Width)\n",
    "        b_feat (str): which feature to plot along y axis\n",
    "            (Weight  Length1  Length2  Length3   Height   Width)\n",
    "        df (pd.DataFrame): the pandas dataframe which contains the data \n",
    "            from all fish (as loaded above)\n",
    "            \n",
    "    Returns:\n",
    "        x (np.array): parameters of line of best fit (see model above)\n",
    "    \"\"\"\n",
    "    # build a new datafrom from only those rows which describe species\n",
    "    df_species = df[df['Species']== species]\n",
    "\n",
    "    # build a2, b which correspond to a_feat and b_feat\n",
    "    a2 = df_species[a_feat]\n",
    "    b = df_species[b_feat]\n",
    "\n",
    "    # build matrix corresponding to our linear model\n",
    "    A = (np.column_stack((np.ones((a2.size, 1)),a2)))\n",
    "\n",
    "    # find p, the projection of b into the column space of A\n",
    "    p = A @ np.linalg.inv(A.T @ A) @ A.T @ b\n",
    "    \n",
    "    # find x, the parameters of the line\n",
    "    x = np.linalg.inv(A.T @ A) @ A.T @ b\n",
    "\n",
    "    # scatter the observed fish\n",
    "    plt.scatter(a2, b, alpha=.5, label=species)\n",
    "    \n",
    "    # plot a line of the projection\n",
    "    a2_domain = np.linspace(a2.min(), a2.max(), 100)\n",
    "    plt.plot(a2_domain, x[0] + x[1] * a2_domain, alpha=.5, linewidth=3)\n",
    "    \n",
    "    # this implementation takes advantage of the fact that each call to \n",
    "    # plot or scatter cycles through the same set of colors.  So the first\n",
    "    # call to scatter is blue and the first call to plot is blue (which is\n",
    "    # important because they're the same fish species)\n",
    "    \n",
    "    # graph grooming\n",
    "    plt.xlabel(a_feat)\n",
    "    plt.ylabel(b_feat)\n",
    "    plt.legend()\n",
    "\n",
    "    # https://stackoverflow.com/questions/4700614/how-to-put-the-legend-out-of-the-plot\n",
    "    ax = plt.gca()\n",
    "    box = ax.get_position()\n",
    "    ax.set_position([box.x0, box.y0, box.width * 0.8, box.height])\n",
    "    ax.legend(loc='center left', bbox_to_anchor=(1, 0.5));\n",
    "    \n",
    "    return x"
   ]
  },
  {
   "cell_type": "markdown",
   "metadata": {},
   "source": [
    "We can use the function above to observe the relationship between any two features in the dataset.  For example, the code below will plot the relationship between Height and Weight for the three given fish."
   ]
  },
  {
   "cell_type": "code",
   "execution_count": 20,
   "metadata": {},
   "outputs": [
    {
     "name": "stdout",
     "output_type": "stream",
     "text": [
      "<class 'numpy.ndarray'>\n",
      "<class 'numpy.ndarray'>\n",
      "<class 'numpy.ndarray'>\n"
     ]
    },
    {
     "data": {
      "image/png": "[encoded data removed]",
      "text/plain": [
       "<matplotlib.figure.Figure at 0x116ce7b38>"
      ]
     },
     "metadata": {},
     "output_type": "display_data"
    }
   ],
   "source": [
    "# define features of interest\n",
    "a_feat = 'Height'\n",
    "b_feat = 'Weight'\n",
    "\n",
    "# figsize allows us to make a bigger image\n",
    "plt.figure(figsize=[20, 10])\n",
    "x_bream = scatter_fit_fish('Bream', a_feat, b_feat, df)\n",
    "x_perch = scatter_fit_fish('Perch', a_feat, b_feat, df)\n",
    "x_pike = scatter_fit_fish('Pike', a_feat, b_feat, df)"
   ]
  },
  {
   "cell_type": "markdown",
   "metadata": {},
   "source": [
    "### Part B (2 points):\n",
    "This line is useful for more than just describing the existing data, but can be used to predict unseen features of new fish.  Use your regressions to answer: how heavy is a typical perch whose height is 10?  How about the world record perch, whose height is 17.5 -- how heavy would you expect that fish to be?\n",
    "\n",
    "### Part C (2 points):\n",
    "Estimating the weight of a perch whose height is 10 is an example of **interpolation**.  The second weight estimate, from a perch whose height is 17.5, is an example of **extrapolation**.  Both are estimates of some unknown value based on a fitted line (or, in Machine-Learning-speak, a model).  The difference is that our model has been trained by utilizing fish whose heights are both smaller and larger than 10 ('inter' -> within our model's training data).  On the other hand, the world record perch is far taller than what our model has seen in training ('extra' -> outside of our model's training data).  [A graphical explanation](https://stats.stackexchange.com/questions/418803/extrapolation-v-interpolation/418814#418814) is helpful to illustrate the difference.\n",
    "\n",
    "Which of the two estimates above, in Part B, would you expect to be closer to fish of the given height?  Why?\n",
    "\n",
    "### Part D (4 points):\n",
    "Notice that the straight line fit between the height (x axis) and weight (y axis) is a poor fit for perch.  We may do better to fit this relationship with an [exponential model](https://en.wikipedia.org/wiki/Exponential_function).  \n",
    "\n",
    "Fill in each of the `your answer here too` strings below to re-cast this exponential model as a linear fit.  Note that the `your answer here` lines from above may be copied down to this new function without modification."
   ]
  },
  {
   "cell_type": "code",
   "execution_count": null,
   "metadata": {},
   "outputs": [],
   "source": [
    "def scatter_fit_fish_exp(species, a_feat, b_feat, df):\n",
    "    \"\"\" scatters fish data points, fits an exponential line between them\n",
    "    \n",
    "    model:\n",
    "    \n",
    "    b = x0 e^(x1 * a)\n",
    "    \n",
    "    Args:\n",
    "        species (str): specifies which fish data to use ('Perch', 'Bream',\n",
    "            'Roach', 'Pike', 'Smelt', 'Parkki' or 'Whitefish')\n",
    "        a_feat (str): which feature to plot along x axis \n",
    "            (Weight  Length1  Length2  Length3   Height   Width)\n",
    "        b_feat (str): which feature to plot along y axis\n",
    "            (Weight  Length1  Length2  Length3   Height   Width)\n",
    "        df (pd.DataFrame): the pandas dataframe which contains the data \n",
    "            from all fish (as loaded above)\n",
    "            \n",
    "    Returns:\n",
    "        x (np.array): parameters of line of best fit (see model above)\n",
    "    \"\"\"\n",
    "    # build a new datafrom from only those rows which describe species\n",
    "    df_species = df[df['Species']== species]\n",
    "\n",
    "    # build a2, b which correspond to a_feat and b_feat\n",
    "    a2 = df_species[a_feat]\n",
    "    b = df_species[b_feat]\n",
    "    \n",
    "    # cast your problem as a linear fit\n",
    "    b = \"your answer here too\"\n",
    "\n",
    "    # build matrix corresponding to our linear model\n",
    "    A = \"your answer here\"\n",
    "\n",
    "    # find p, the projection of b into the column space of A\n",
    "    p = \"your answer here\"\n",
    "    \n",
    "    # find x, the parameters of the line\n",
    "    x = \"your answer here\"\n",
    "    \n",
    "    # convert x and b back from 'log space' (for plotting)\n",
    "    x = \"your answer here too\"\n",
    "    b = \"your answer here too\"\n",
    "\n",
    "    # scatter the observed fish\n",
    "    plt.scatter(a2, b, alpha=.5, label=species)\n",
    "    \n",
    "    # plot a line of the projection\n",
    "    a2_domain = np.linspace(a2.min(), a2.max(), 100)\n",
    "    plt.plot(a2_domain, x[0] * np.exp(x[1] * a2_domain), alpha=.5, linewidth=3)\n",
    "    \n",
    "    # this implementation takes advantage of the fact that each call to \n",
    "    # plot or scatter cycles through the same set of colors.  So the first\n",
    "    # call to scatter is blue and the first call to plot is blue (which is\n",
    "    # important because they're the same fish species)\n",
    "    \n",
    "    # graph grooming\n",
    "    plt.xlabel(a_feat)\n",
    "    plt.ylabel(b_feat)\n",
    "    plt.legend()\n",
    "\n",
    "    # https://stackoverflow.com/questions/4700614/how-to-put-the-legend-out-of-the-plot\n",
    "    ax = plt.gca()\n",
    "    box = ax.get_position()\n",
    "    ax.set_position([box.x0, box.y0, box.width * 0.8, box.height])\n",
    "    ax.legend(loc='center left', bbox_to_anchor=(1, 0.5));\n",
    "    \n",
    "    return x"
   ]
  },
  {
   "cell_type": "code",
   "execution_count": null,
   "metadata": {},
   "outputs": [],
   "source": [
    "# define features of interest\n",
    "a_feat = 'Height'\n",
    "b_feat = 'Weight'\n",
    "\n",
    "# figsize allows us to make a bigger image\n",
    "plt.figure(figsize=[20, 10])\n",
    "# x_bream = scatter_fit_fish_exp('Bream', a_feat, b_feat, df)\n",
    "# x_perch = scatter_fit_fish_exp('Perch', a_feat, b_feat, df)\n",
    "# x_pike = scatter_fit_fish_exp('Pike', a_feat, b_feat, df)"
   ]
  }
 ],
 "metadata": {
  "kernelspec": {
   "display_name": "Python 3",
   "language": "python",
   "name": "python3"
  },
  "language_info": {
   "codemirror_mode": {
    "name": "ipython",
    "version": 3
   },
   "file_extension": ".py",
   "mimetype": "text/x-python",
   "name": "python",
   "nbconvert_exporter": "python",
   "pygments_lexer": "ipython3",
   "version": "3.6.4"
  }
 },
 "nbformat": 4,
 "nbformat_minor": 4
}
