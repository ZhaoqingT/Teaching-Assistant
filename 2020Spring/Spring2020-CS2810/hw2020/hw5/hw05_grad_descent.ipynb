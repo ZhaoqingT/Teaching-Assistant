{
 "cells": [
  {
   "cell_type": "markdown",
   "metadata": {},
   "source": [
    "# CS 2810 HW 5: Programming (24 points)\n",
    "\n",
    "Due alongside written hw5, see written hw 5 for due date information.\n",
    "\n",
    "### Submission Instructions\n",
    "The assignment may include different types of responses.  Response types are indicated next to each part.  (e.g. `Part A (W: 12 points)` means part A requires a written response and is worth 12 points.  Grading penalties will be assessed if submissions do not follow the following instructions:\n",
    "\n",
    "#### Written Submission (W)\n",
    "\n",
    "- submit at the end of the written portion of HW\n",
    "- order responses as given here (e.g. part A before part B)\n",
    "- label each written response with its associated part (e.g. write 'Part A' above the associated repsonse)\n",
    "\n",
    "#### Programming Submission (P)\n",
    "\n",
    "- submit a `.py` file, not a `.ipynb`, of this notebook with your responses (`file` -> `download as...` -> `python .py`)\n",
    "- label the file `hwxx_<firstname>_<lastname>.py` (e.g. `hw01_carl_gauss.py`)\n",
    "- use identical naming of variables and functions as defined here\n",
    "\n",
    "#### Programming & Screenshot Submission (PS)\n",
    "Full credit requires both a programming submission as well as a screen shot.  In addition to following the programming submission guidelines above ...\n",
    "\n",
    "- submit one image file per PS\n",
    "- label the file `part_a.jpg` or similar\n",
    "\n",
    "### Academic Integrity\n",
    "\n",
    "Under no circumstances should you observe another student's code which was written for this assignment, from this year or past years.\n",
    "\n",
    "\n",
    "# Minimizing F: a single-variable function\n",
    "\n",
    "$$f = \\frac{1}{4}x^4 + \\frac{1}{3}x^3 - 3x^2 $$\n",
    "\n",
    "### Part A: (W 2 point)\n",
    "Using calculus, find all $x$ which produce either a minimum or maximum (i.e. extremum) of $f$.  You do not need to tell which points are minima and which are maxima.  Write your answer along with the written portion of your hw."
   ]
  },
  {
   "cell_type": "markdown",
   "metadata": {},
   "source": [
    "### Part B: (P 2 points)\n",
    "Complete the functions which evaluate $f$ and $\\frac{df}{dx}$ below."
   ]
  },
  {
   "cell_type": "code",
   "execution_count": 1,
   "metadata": {},
   "outputs": [],
   "source": [
    "def f(x):\n",
    "    \"\"\" evaluates f at point x\n",
    "    \n",
    "    Args:\n",
    "        x (float): point in domain of x\n",
    "        \n",
    "    Returns:\n",
    "        f (float): f evaluated @ x\n",
    "    \"\"\"\n",
    "    return 0\n",
    "\n",
    "def df_dx(x):\n",
    "    \"\"\" returns derivative of f at point x\n",
    "    \n",
    "    Args:\n",
    "        x (float): points in domain of x\n",
    "        \n",
    "    Returns:\n",
    "        df (float): derivative of f @ x\n",
    "    \"\"\"\n",
    "    return 0"
   ]
  },
  {
   "cell_type": "markdown",
   "metadata": {},
   "source": [
    "### Part C:  (PS 2 points)\n",
    "Plot $f$ and $\\frac{df}{dx}$ by building a vector `x` of `100` equally spaced points from `-4` to `4` (see `numpy.linspace`).  Then apply the `f()` and `df_dx()` from above to each point in this domain and plot the result using `matplotlib.plot`.  Label your plots so that we may distinguish the two functions by using `matplotlib.legend()`.  \n",
    "\n",
    "Hints:\n",
    " - validate your plots by ensuring that your extreme points in part A have consistent values of each $f$ and $\\frac{df}{dx}$\n",
    " - Struggling to put a legend on your graph?  Mimick the ['simple plot' shown here](https://matplotlib.org/3.1.1/tutorials/introductory/usage.html#matplotlib-pyplot-and-pylab-how-are-they-related) of how `matplotlib` passes `label='your label here'` parameter to the calls of `plt.plot()`.  Finally, activate the legend itself by giving one final call to `plt.legend()`.\n"
   ]
  },
  {
   "cell_type": "code",
   "execution_count": 2,
   "metadata": {},
   "outputs": [],
   "source": [
    "import numpy as np\n",
    "import matplotlib.pyplot as plt"
   ]
  },
  {
   "cell_type": "markdown",
   "metadata": {},
   "source": [
    "### Part D (P 2 points)\n",
    "Write a function which takes a single gradient descent step in the positive $x$ direction.  A stub is given below:  "
   ]
  },
  {
   "cell_type": "code",
   "execution_count": 3,
   "metadata": {},
   "outputs": [],
   "source": [
    "def grad_descent_step_1d(x, learn_rate):\n",
    "    \"\"\" take a single hill climbing step on f\n",
    "    \n",
    "    Args:\n",
    "        x (float): position in domain of f, where step begins\n",
    "        learn_rate (float): scales how big step to take (larger\n",
    "            values take bigger steps)\n",
    "        \n",
    "    Returns:\n",
    "        x_out (float): position in domain of f, where step ends\n",
    "    \"\"\"\n",
    "    return 0"
   ]
  },
  {
   "cell_type": "markdown",
   "metadata": {},
   "source": [
    "### Part E (PS 4 points)\n",
    "Starting at position $x=.1$, write a loop which takes 4 gradient steps towards the minimum of $f$ with a `learn_rate=.2`.  Make a plot which demonstrates your results.  This new figure should include:\n",
    "\n",
    "- a line of $f$ between $x=-4$ and $x=4$ (feel free to copy the code for the graph you built in part C) \n",
    "- a scatter point at each of the 5 points $(x, f(x))$ before and after gradient descent steps.\n",
    "\n",
    "`print()` $(x, f(x))$ to the command line for each of the 5 points in the order they are visited.\n",
    "\n",
    "Remember that `matplotlib.scatter(x, y)` will plot a point at $(x, y)$.  You may find it helpful to return to the python tutorial to refresh yourself on python's loop syntax."
   ]
  },
  {
   "cell_type": "code",
   "execution_count": null,
   "metadata": {},
   "outputs": [],
   "source": []
  },
  {
   "cell_type": "markdown",
   "metadata": {},
   "source": [
    "### Part F (W 2 points)\n",
    "Has gradient descent found a local or a global minimum of $f$?  If the search only found a local minimum, how might you change the variables above to find the global minimum?  (Test out your ideas by changing the necessary variables and re-running above)."
   ]
  },
  {
   "cell_type": "markdown",
   "metadata": {},
   "source": [
    "# Minimizing G: a multivariate function\n",
    "Lets turn our attention to a function of two variables:\n",
    "\n",
    "$$ g(\\begin{bmatrix} x_0 \\\\ x_1 \\end{bmatrix}) = (2 - x_0)^2 + (3 - x_1)^2$$\n",
    "\n",
    "which we can visualize via a contour plot.  The contour lines are labelled with all the points which have the same value of $g$.  For example, the inner most ellipse labels all points with $g=3$.  Hikers may recognize this as a close cousin of a [topographic map](https://en.wikipedia.org/wiki/Topographic_map#/media/File:Topographic_map_example.png)."
   ]
  },
  {
   "cell_type": "code",
   "execution_count": 4,
   "metadata": {},
   "outputs": [
    {
     "data": {
      "image/png": "[encoded data removed]",
      "text/plain": [
       "<Figure size 432x288 with 1 Axes>"
      ]
     },
     "metadata": {
      "needs_background": "light"
     },
     "output_type": "display_data"
    }
   ],
   "source": [
    "x0 = np.linspace(0, 5, 20)\n",
    "x1 = np.linspace(0, 5, 20)\n",
    "\n",
    "def plot_g_contour(x0, x1):\n",
    "    X0, X1 = np.meshgrid(x0, x1)\n",
    "    G =  (2 - X0) ** 2 + (3 - X1) ** 2\n",
    "    cs = plt.contour(X0, X1, G, levels=6)\n",
    "    plt.gca().clabel(cs, inline=1, fontsize=10)\n",
    "    \n",
    "plot_g_contour(x0, x1)"
   ]
  },
  {
   "cell_type": "markdown",
   "metadata": {},
   "source": [
    "### Part G (P 4 points)\n",
    "Write functions which evaluate $g$ and $\\nabla g$.  Pay attention to the dimensions of the inputs / outputs given in the stubs."
   ]
  },
  {
   "cell_type": "code",
   "execution_count": 5,
   "metadata": {},
   "outputs": [],
   "source": [
    "def g(x):\n",
    "    \"\"\" evaluates g at point x\n",
    "    \n",
    "    Args:\n",
    "        x (np.array): a 2d point in domain of g\n",
    "        \n",
    "    Returns:\n",
    "        g (float): evaluation of g\n",
    "    \"\"\"\n",
    "    return 0\n",
    "\n",
    "def del_g(x):\n",
    "    \"\"\" returns gradient of f at point x\n",
    "    \n",
    "    Args:\n",
    "        x (np.array): 2d point in domain of g\n",
    "        \n",
    "    Returns:\n",
    "        del_g (np.array): gradient of g at point x (a 2d vector)\n",
    "    \"\"\"\n",
    "    return 0"
   ]
  },
  {
   "cell_type": "markdown",
   "metadata": {},
   "source": [
    "### Part H (P 2 points)\n",
    "Write a function which takes a single gradient descent step in $x$ in the 2d case.  A stub is given below:  "
   ]
  },
  {
   "cell_type": "code",
   "execution_count": 6,
   "metadata": {},
   "outputs": [],
   "source": [
    "def grad_descent_step_2d(x, learn_rate):\n",
    "    \"\"\" take a single hill climbing step on g\n",
    "    \n",
    "    Args:\n",
    "        x (np.array): position in domain of g, where step begins (2d vector)\n",
    "        learn_rate (float): scales how big step to take\n",
    "        \n",
    "    Returns:\n",
    "        x_out (np.array): position in domain of g, where step ends\n",
    "    \"\"\"\n",
    "    return 0"
   ]
  },
  {
   "cell_type": "markdown",
   "metadata": {},
   "source": [
    "### Part G (PS 4 points)\n",
    "Starting at position $(1, 1)$, write a loop which takes 4 gradient steps towards the minimum of $g$ with a `learn_rate=.2`.  Make a plot which demonstrates your results.  This new figure should include:\n",
    "\n",
    "- a contour of $g$ (re-use the `plot_g_contour(x0, x1)` given)\n",
    "- a scatter point at each of the 5 $(x_0, x_1)$ points before and after gradient descent steps.  `matplotlib.scatter(x[0], x[1])` will plot a point at $(x_0, x_1)$\n",
    "\n",
    "To keep track of the order the points are visited in, be sure to `print(x)` and `print(g(x))` to the command line for each of the 5 points."
   ]
  },
  {
   "cell_type": "code",
   "execution_count": null,
   "metadata": {},
   "outputs": [],
   "source": []
  }
 ],
 "metadata": {
  "kernelspec": {
   "display_name": "Python 3",
   "language": "python",
   "name": "python3"
  },
  "language_info": {
   "codemirror_mode": {
    "name": "ipython",
    "version": 3
   },
   "file_extension": ".py",
   "mimetype": "text/x-python",
   "name": "python",
   "nbconvert_exporter": "python",
   "pygments_lexer": "ipython3",
   "version": "3.6.4"
  }
 },
 "nbformat": 4,
 "nbformat_minor": 4
}
