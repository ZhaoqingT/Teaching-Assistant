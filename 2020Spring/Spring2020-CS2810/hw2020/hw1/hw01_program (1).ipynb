{
 "cells": [
  {
   "cell_type": "markdown",
   "metadata": {},
   "source": [
    "# CS 2810 HW1: Programming\n",
    "\n",
    "Due Jan 17, 2019\n",
    "\n",
    "This assignment is a relatively quick one, just to get the hang of Python and our submission system.  Be sure you see `hw01_programming_tutorial.html` first!\n",
    "\n",
    "#### Submission Instructions\n",
    "\n",
    "Submit this problem (problem 5) as a single `.py` file which is named `hw01_<firstname>_<lastname>.py` (ensure only those two underscores are used).  You should turn it in to Blackboard at the same time as your PDF for the other 4 problems, in the same submission.\n",
    "\n",
    "The names of all variables and function definitions must be consistent with what is used here.  For example, a problem may ask you to define function `matmult_n(X, y, n)`.  Name the function and its input arguments exactly as shown, noting capitalization.  This is critical to streamline grading.  If your solutions are not named appropriately, the grader may elect to remove all credit.  Thanks for your help in making our grading more efficient!\n",
    "\n",
    "#### Academic Integrity\n",
    "\n",
    "Under no circumstances should you observe another student's code which was written for this programming assignment, from this year or past years.\n",
    "\n",
    "## Problem P1 (15 points):\n",
    "\n",
    "Later on in the semester, we will see that if you repeatedly multiply a vector by a matrix, the result in the long term may depend more on the matrix than the original vector.  In this homework, you'll have a chance to see this behavior.\n",
    "\n",
    "### Part A\n",
    "Your script should build the following matrices and vectors (in the main body).  Name them as shown here (pay attention to capitalization):\n",
    "\n",
    "$ A = \\begin{bmatrix} 0.1 & 0.7 & 0.1 \\\\ \n",
    "                      0.2 & 0.1 & 0.3 \\\\\n",
    "                      0.7 & 0.2 & 0.6 \n",
    "      \\end{bmatrix},\n",
    "B = \\begin{bmatrix} 0.2 & 0.3 & 0.5 \\\\ \n",
    "                    0.4 & 0.4 & 0.2 \\\\ \n",
    "                    0.4 & 0.3 & 0.3 \n",
    "    \\end{bmatrix},\n",
    "c = \\begin{bmatrix} 1 \\\\ 0 \\\\ 0 \\end{bmatrix}, \n",
    "d = \\begin{bmatrix} 2 \\\\ 0 \\\\ 0 \\end{bmatrix}, \n",
    "e = \\begin{bmatrix} 0.3 \\\\ 0.4 \\\\ 0.3 \\end{bmatrix},\n",
    "f = \\begin{bmatrix} 1 \\\\ 1 \\\\  1 \\end{bmatrix} $\n",
    "\n",
    "Use the numpy function `numpy.array` to create your matrices and vectors."
   ]
  },
  {
   "cell_type": "markdown",
   "metadata": {},
   "source": [
    "### Part B\n",
    "\n",
    "Write a Python function that returns $X^{n} y = X ... X y $ for matrix $X$, vector $y$ and positive integer $n$.  Use the following stub.  (Note:  For this assignment, you must use some kind of iteration to multiply n times.)\n",
    "\n",
    "```python\n",
    "def matmult_n(X, y, n):\n",
    "    \"\"\" left multiplies a vector y, by X, a total of n times\n",
    "    \n",
    "    Args:\n",
    "        X (np.array): 2d matrix with shape (d, d)\n",
    "        y (np.array): 1d vector with shape (d, )\n",
    "        n (int): a positive integer\n",
    "        \n",
    "    Returns:\n",
    "        Xny (np.array): 1d vector with shape (d, )\n",
    "    \"\"\"\n",
    "    # your code goes here!\n",
    "\n",
    "```\n",
    "\n",
    "### Part C\n",
    "\n",
    "For each of the 8 combinations of matrix and vector from $A, B$ and $c, d, e, f$, multiply the matrix by the vector $n=100$ times using the function above, and have your script print these products in the order $A^{100}c, A^{100}d, A^{100}e, A^{100}f, B^{100}c, B^{100}d, B^{100}e, B^{100}f$ (one per line, using a simple `print` on the `np.array`).  Are the directions of the vectors the same for the A results?  For the B results?  Are the lengths the same for the A results?  For the B results?  If the answer is \"no\" to any of these questions, what seems to be driving the difference?  Write your answer in a multiline string labelled `part_c`:\n",
    "\n",
    "```python\n",
    "\n",
    "part_c = \"\"\" here is a super long string which\n",
    "may be composed of multiple lines and would be \n",
    "convenient for such a long form response, or a\n",
    "function's docstring as above!\"\"\"\n",
    "```"
   ]
  },
  {
   "cell_type": "code",
   "execution_count": null,
   "metadata": {},
   "outputs": [],
   "source": []
  }
 ],
 "metadata": {
  "kernelspec": {
   "display_name": "Python 3",
   "language": "python",
   "name": "python3"
  },
  "language_info": {
   "codemirror_mode": {
    "name": "ipython",
    "version": 3
   },
   "file_extension": ".py",
   "mimetype": "text/x-python",
   "name": "python",
   "nbconvert_exporter": "python",
   "pygments_lexer": "ipython3",
   "version": "3.7.2"
  }
 },
 "nbformat": 4,
 "nbformat_minor": 2
}
