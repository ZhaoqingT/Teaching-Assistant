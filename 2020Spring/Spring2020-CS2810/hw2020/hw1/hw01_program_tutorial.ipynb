{
 "cells": [
  {
   "cell_type": "markdown",
   "metadata": {},
   "source": [
    "# CS 2810 Python Tutorial\n",
    "\n",
    "\n",
    "CS2810 Spring 2020: Kevin Gold, Matt Higger\n",
    "\n",
    "Jan 8, 2019\n",
    "\n",
    "This tutorial is intended to acquaint you with Python.  It doesn't assume prior Python experience, but it does assume prior programming experience in Java or a similar language.  We'll cover the following:\n",
    "\n",
    "* Installing Python\n",
    "* Jupyter notebooks\n",
    "* Opening an interactive Python shell\n",
    "* Running a script\n",
    "* Importing modules and libraries\n",
    "* If statements and indentation as control flow\n",
    "* Loops\n",
    "* Functions, types, and error messages\n",
    "* Lists and arrays\n",
    "* List comprehensions and plotting\n",
    "\n",
    "Python can be refreshing to play with if you're used to more verbose languages; if this is your first introduction, [you're in for a treat](https://xkcd.com/353/).\n",
    "\n",
    "Even though this tutorial is optional, spend the time to go over it now.  Time you invest in learning Python now is time you'll save by avoiding bugs down the line.\n",
    "\n",
    "\n",
    "## Installing Python\n",
    "\n",
    "Before beginning, you'll need to [install](https://www.anaconda.com/distribution/) Python 3. (Python 2.x is not compatible in several ways, and we won't accept Python 2 code in this course to streamline grading.)  Python installs come in a few varieties; we recommend Anaconda (follow the link) because it comes with several packages we'll use, as well as the useful Jupyter notebook utility.  If you already have Python installed, other installs are fine as long as you are willing to install packages as necessary (numpy and matplotlib are needed now, scipy.stats likely down the road)."
   ]
  },
  {
   "cell_type": "markdown",
   "metadata": {},
   "source": [
    "## Jupyter notebooks\n",
    "\n",
    "Jupyter notebooks (.ipynb) can be a useful educational tool in Python, mixing executable code fragments with explanatory text.  If you're reading the notebook version of this tutorial, you should have launched it from the command line (run \"cmd\" in Windows, or start the Terminal application in Mac) with the command\n",
    "\n",
    "`jupyter notebook`\n",
    "\n",
    "or, to launch a specific notebook instead of going to a file menu,\n",
    "\n",
    "`jupyter notebook mynotebookname.ipynb`\n",
    "\n",
    "from the same directory as the notebook.  This should launch the jupyter notebook framework in your browser.\n",
    "\n",
    "Anything with an In[] next to it can be modified and run, with the output displaying below.  Try it with the following print statement, modifying it and selecting Cell->Run All from the menu above:"
   ]
  },
  {
   "cell_type": "code",
   "execution_count": 67,
   "metadata": {},
   "outputs": [
    {
     "name": "stdout",
     "output_type": "stream",
     "text": [
      "hello foo\n"
     ]
    }
   ],
   "source": [
    "print('hello foo')"
   ]
  },
  {
   "cell_type": "markdown",
   "metadata": {},
   "source": [
    "We won't use much more functionality than this, but it's worth noting that if you decide to evaluate cells out of order, things can get confusing with stale variable values -- so it's often a good idea to just rerun everything.\n",
    "\n",
    "Notice, by the way, that there's no need to end lines with semicolons in Python, and that strings can begin and end with single quotes."
   ]
  },
  {
   "cell_type": "markdown",
   "metadata": {},
   "source": [
    "## Opening an interactive Python shell\n",
    "\n",
    "With python installed, you should also be able to run it directly from the command line (again, command prompt on Windows, Terminal on Mac).  Type `python3` and you should be greeted with an interactive prompt.  Try entering the `print('hello world')` that was demonstrated earlier.\n",
    "\n",
    "You could also try noodling around with some basic math at this point.  Try adding 2 + 2 by entering it directly at the prompt.  You could also make a prediction about the value of 7 / 2 and see whether it holds up."
   ]
  },
  {
   "cell_type": "code",
   "execution_count": 68,
   "metadata": {},
   "outputs": [
    {
     "data": {
      "text/plain": [
       "4"
      ]
     },
     "execution_count": 68,
     "metadata": {},
     "output_type": "execute_result"
    }
   ],
   "source": [
    "2 + 2"
   ]
  },
  {
   "cell_type": "markdown",
   "metadata": {},
   "source": [
    "## Running a script\n",
    "\n",
    "Jupyter notebooks and the Python shell is great for tinkering around like this, but it starts to make our code seem a little impermanent.  Let's make a Python script (.py extension) which will allow our commands to be stored in a file which persists between calls.\n",
    "\n",
    "The following step requires some kind of program that will edit text files for you; .py files, like .java files, are really just text, and you can manipulate them with any text editor that will work with raw text.  Vim, Emacs, and Atom are all examples of this, but not Word (which inserts hidden Word-specific formatting) or Notepad (it'll do but it's not meant for programming).  Alternately, you could try using the PyCharm IDE (Integrated Development Environment) if you prefer working in the context of an IDE (similar to DrRacket or IntelliJ).  But that's not strictly necessary for development - all we need is to open a text file and call it .py instead of .txt.\n",
    "\n",
    "Then, put in the text file our simple one-line \"hello world\" program:\n",
    "\n",
    "```python\n",
    "print('hello world')\n",
    "```\n",
    "\n",
    "Again, be sure you've created a text file with a .py extension, just as Java expects code in .java files.\n",
    "\n",
    "If you are in the same directory as your file, you can run your hello world script with the python3 command from the command line:\n",
    "\n",
    "```\n",
    "python3 hello.py\n",
    "```\n",
    "\n",
    "If you're not in the same directory, but it's in a subfolder, you'll need to specify the path to the .py file, using the direction of slashes expected by your operating system:\n",
    "\n",
    "```\n",
    "python3 tutorialstuff/hello.py\n",
    "```\n",
    "\n",
    "If you aren't sure how to navigate the command line, look online for instructions on how to use the `cd` (\"change directory\") command, which is more or less the same between Windows and Mac (other commands can be different).\n",
    "\n",
    "A .py file will probably be the most common way that you will turn in code.  (We may instead ask for Jupyter notebooks at some point.)"
   ]
  },
  {
   "cell_type": "markdown",
   "metadata": {},
   "source": [
    "## Importing modules and libraries\n",
    "\n",
    "Just as Java has libraries with useful functions, Python does as well, which are brought in with the `import` keyword.  A lot of what people like about Python is the fact that it has great libraries for things like linear algebra, statistics, displaying data, and even more advanced stuff like natural language processing and machine learning.\n",
    "\n",
    "One of the most common libraries to use is numpy (for \"Numerical Python\").  This contains essentials like matrix multiplication (numpy.matmul).  Notice the convention of libraryname.functionname.  If you just say `import mylibrary`, you'll still need to refer to functions with the library name followed by a dot, like `mylibrary.myfunction`, which is Python's way of keeping functions from different libraries straight.  You might think this would start to drive you nuts, and it can, a little.  However, if you say `import mylibrary as ml`, then you've just defined a shorthand that you can use instead of the full library name (`ml.myfunction`).  The shorthand can be whatever you want, but it should typically at least share a starting letter with the full library name, and some are conventional (`np` for `numpy`).\n",
    "\n",
    "Try modifying the following snippet so that the shorthand for the numpy library is something that isn't `np'."
   ]
  },
  {
   "cell_type": "code",
   "execution_count": 69,
   "metadata": {},
   "outputs": [
    {
     "data": {
      "text/plain": [
       "array([0, 1, 2, 3, 4, 5, 6, 7, 8, 9])"
      ]
     },
     "execution_count": 69,
     "metadata": {},
     "output_type": "execute_result"
    }
   ],
   "source": [
    "import numpy as np\n",
    "\n",
    "a = np.arange(10)\n",
    "a"
   ]
  },
  {
   "cell_type": "markdown",
   "metadata": {},
   "source": [
    "As with Java's import statements, you only need to do this once per library.\n",
    "\n",
    "Some other useful numpy tools include functions that create matrices of arbitrary size (`np.array`), multiply matrices (`np.matmul`), or find the dot product (`np.dot`).  You can find the official numpy documentation here: (https://docs.scipy.org/doc/numpy/reference/).  Often, Googling isn't a bad way to go to determine which libraries will help you (try Googling `Python dot product` and see if it works; notice that the top real hit is more useful than the hit-or-miss WebAnswers box at the top, which sadly has a habit of catapulting less-good results to the prestigious @1 position).  Be sure to read assignment instructions carefully to determine what kinds of libraries are allowed, but usually anything from numpy will be okay.\n",
    "\n",
    "See whether you can figure out what the `eye` function does in the following snippet, and then check your intuition against the documentation.\n"
   ]
  },
  {
   "cell_type": "code",
   "execution_count": 70,
   "metadata": {},
   "outputs": [
    {
     "name": "stdout",
     "output_type": "stream",
     "text": [
      "x =\n",
      "[[1. 0. 0.]\n",
      " [0. 1. 0.]\n",
      " [0. 0. 1.]]\n",
      "y =\n",
      "[0 1 2]\n",
      "dot product of y with itself =\n",
      "5\n",
      "xy=\n",
      "[0. 1. 2.]\n"
     ]
    }
   ],
   "source": [
    "import numpy as np\n",
    "\n",
    "x = np.eye(3)\n",
    "y = np.arange(3)\n",
    "\n",
    "print('x =')\n",
    "print(x)\n",
    "\n",
    "print('y =')\n",
    "print(y)\n",
    "\n",
    "print('dot product of y with itself =')\n",
    "print(np.dot(y, y)) # dot product\n",
    "\n",
    "print('xy=')\n",
    "print(np.matmul(x, y)) # matrix multiplication\n",
    "# print(x @ y) # same as above, but a little cleaner looking\n"
   ]
  },
  {
   "cell_type": "markdown",
   "metadata": {},
   "source": [
    "Note that if you want to use a library like numpy interactively, you'll still need to type `import numpy as np` or something similar just after you start your session."
   ]
  },
  {
   "cell_type": "markdown",
   "metadata": {},
   "source": [
    "## If statements and indentation as control flow\n",
    "\n",
    "Here's what a Python if statement looks like:"
   ]
  },
  {
   "cell_type": "code",
   "execution_count": 71,
   "metadata": {},
   "outputs": [
    {
     "name": "stdout",
     "output_type": "stream",
     "text": [
      "I guess we'll print this string then\n"
     ]
    }
   ],
   "source": [
    "if 3 > 5:\n",
    "    print('3 isn\\'t bigger than 5')\n",
    "elif 3 > 10:\n",
    "    print('3 certainly isnt bigger than 10')\n",
    "else:\n",
    "    print('I guess we\\'ll print this string then')"
   ]
  },
  {
   "cell_type": "markdown",
   "metadata": {},
   "source": [
    "Notice the keyword `elif` for \"else if,\" which you might have a hard time remembering a little down the line.\n",
    "\n",
    "Notice that the control flow in Python isn't guided by opening and closing parentheses or braces, but by the indentation itself.  If you indent according to the usual style rules for Java, you'll also be telling Python where the different conditions' blocks begin and end.  Thus, if we have a lot of nested if's, it will be the indentation that guides where we pop back out."
   ]
  },
  {
   "cell_type": "code",
   "execution_count": 72,
   "metadata": {},
   "outputs": [
    {
     "name": "stdout",
     "output_type": "stream",
     "text": [
      "Well, that's true\n"
     ]
    }
   ],
   "source": [
    "if 3 < 5:\n",
    "    print('Well, that\\'s true')\n",
    "    if 10 < 5:\n",
    "        print('I don\\'t think this is true')\n",
    "else:\n",
    "    if 5 < 10:\n",
    "        print('This won\\'t trigger')\n",
    "    else:\n",
    "        print('Nor this')"
   ]
  },
  {
   "cell_type": "markdown",
   "metadata": {},
   "source": [
    "The indentation here signals that, even though there are a couple of `else`s after the 10 < 5 condition, neither is paired with that `if`.\n",
    "\n",
    "Now a downside to this elegance:  be careful not to mix tabs and spaces in your programs, or this can confuse the interpreter as to how far you intended to indent.  (Most programming text editors will let you set tab to actually print a fixed number of spaces.)"
   ]
  },
  {
   "cell_type": "markdown",
   "metadata": {},
   "source": [
    "## Loops\n",
    "\n",
    "For loops are like Java's \"foreach\" loops, in that they iterate over stuff, with a variable bound to each item in turn.  That means that if you want to make a familiar \"for\" loop construction, a typical way to do this is with the `range` function, which generates a list of numbers from 0 to one less than its argument.  You can then write for loops in the way you'd expect, with an index variable starting at 0 and iterating a total of n times."
   ]
  },
  {
   "cell_type": "code",
   "execution_count": 73,
   "metadata": {},
   "outputs": [
    {
     "name": "stdout",
     "output_type": "stream",
     "text": [
      "0\n",
      "1\n",
      "2\n",
      "3\n"
     ]
    }
   ],
   "source": [
    "for idx in range(4):\n",
    "    print(idx)"
   ]
  },
  {
   "cell_type": "markdown",
   "metadata": {},
   "source": [
    "While loops, on the other hand, should look familiar.  Notice that, like if's, we still use indentation to mark what belongs in the while block.  If you de-indent the print statement here, it will happen only once."
   ]
  },
  {
   "cell_type": "code",
   "execution_count": 74,
   "metadata": {},
   "outputs": [
    {
     "name": "stdout",
     "output_type": "stream",
     "text": [
      "2\n",
      "4\n",
      "8\n",
      "16\n",
      "32\n",
      "64\n"
     ]
    }
   ],
   "source": [
    "x = 1\n",
    "while x < 50:\n",
    "    x = x * 2\n",
    "    print(x)"
   ]
  },
  {
   "cell_type": "markdown",
   "metadata": {},
   "source": [
    "It's conceivable that if Racket was your first language, you'd be inclined to iterate with recursive functions instead of for loops (like recurring on the tail of a list to print it).  Don't do that, at least not unless you have to.  Sure, it works, but it's just a little harder for everybody to follow when you do things that aren't conventional in a language.\n",
    "\n",
    "Also note that range(n) may not print the way you expect, but will instead appear in shorthand.  You might expect range(5) to print [0, 1, 2, 3, 4].  You're not wrong about what it is, but what you'll see is:"
   ]
  },
  {
   "cell_type": "code",
   "execution_count": 83,
   "metadata": {},
   "outputs": [
    {
     "name": "stdout",
     "output_type": "stream",
     "text": [
      "range(0, 5)\n"
     ]
    }
   ],
   "source": [
    "print(range(5))"
   ]
  },
  {
   "cell_type": "markdown",
   "metadata": {},
   "source": [
    "## Functions, Types, and Error Messages\n",
    "\n",
    "This is primarily a course for software engineers and other computer scientists, so we'd like to think in terms of reusable functions as much as possible (as opposed to dumping all our code in the main body).  The main thing that will take some adjustment from Java is that there's no need to declare types of arguments or return values in Python; Python will merrily allow functions to take anything, and will try to charitably interpret any kind of input until they try to do something impossible with a particular type (such as dividing by a string), at which point, you'll get a runtime error."
   ]
  },
  {
   "cell_type": "code",
   "execution_count": 75,
   "metadata": {},
   "outputs": [
    {
     "name": "stdout",
     "output_type": "stream",
     "text": [
      "11\n"
     ]
    }
   ],
   "source": [
    "def add_one(x):\n",
    "    return x + 1\n",
    "\n",
    "print(add_one(10))"
   ]
  },
  {
   "cell_type": "code",
   "execution_count": 76,
   "metadata": {},
   "outputs": [
    {
     "name": "stdout",
     "output_type": "stream",
     "text": [
      "echo... \n",
      "echo... \n",
      "echo... \n",
      "echo... \n",
      "echo... \n"
     ]
    }
   ],
   "source": [
    "def multi_arg_in_no_arg_out(some_str, some_int):\n",
    "    for idx in range(some_int):\n",
    "        print(some_str)\n",
    "        \n",
    "multi_arg_in_no_arg_out('echo... ', 5)"
   ]
  },
  {
   "cell_type": "code",
   "execution_count": 77,
   "metadata": {},
   "outputs": [
    {
     "name": "stdout",
     "output_type": "stream",
     "text": [
      "4\n",
      "foobar\n"
     ]
    }
   ],
   "source": [
    "def plus(a, b):\n",
    "    return a + b\n",
    "\n",
    "print(plus(2, 2))\n",
    "print(plus(\"foo\",\"bar\"))"
   ]
  },
  {
   "cell_type": "markdown",
   "metadata": {},
   "source": [
    "However, Python's built-in functions and other libraries may well have type constraints, and it will not necessarily do implicit type conversions for you.  If, for example, you want to treat a number as a string, you'll need to cast it first with str()."
   ]
  },
  {
   "cell_type": "code",
   "execution_count": 78,
   "metadata": {},
   "outputs": [
    {
     "name": "stdout",
     "output_type": "stream",
     "text": [
      "foo2\n"
     ]
    }
   ],
   "source": [
    "print(plus(\"foo\", str(2)))"
   ]
  },
  {
   "cell_type": "markdown",
   "metadata": {},
   "source": [
    "Try removing the \"str\" and read the the helpful error message that results.  It's saying not only that you have a type error, but that the problem was that int's can't be concatenated to strings, and it's also pointing right where the error happened, and where that function was called!  **Read and use these error messages when you debug!**\n",
    "\n",
    "Okay, you can put the str() back now, or else \"run all\" will probably refuse to evaluate the rest of the tutorial.\n",
    "\n",
    "Another debugging tip:  you can load a .py file with `import`, making all the functions defined in it available to you.  This works at the command line as well.  For example, if your code is in `myfunctions.py`, you can type `import myfunctions` at the shell prompt, and now you can call all the functions in your .py file with whatever arguments you like at the interactive prompt.  If you have an error that isn't causing a crash but is causing strange output, clever use of this strategy can narrow down where things are going wrong.  (Of course, if we really wanted to make this software stable, we'd write a suite of permanent tests.  That's going a little far for a math class.)"
   ]
  },
  {
   "cell_type": "markdown",
   "metadata": {},
   "source": [
    "## Lists and Arrays\n",
    "\n",
    "Python lists, denoted with comma-separated values between square brackets, are a great data type for organizing a lot of objects into an order.  Note that the objects don't need to be of the same type and can be referenced by their index later on:"
   ]
  },
  {
   "cell_type": "code",
   "execution_count": 79,
   "metadata": {},
   "outputs": [
    {
     "name": "stdout",
     "output_type": "stream",
     "text": [
      "['a string', 3]\n",
      "a string\n",
      "3\n",
      "['a string', 3, 'some other string']\n"
     ]
    }
   ],
   "source": [
    "my_list = ['a string', 3]\n",
    "print(my_list)\n",
    "print(my_list[0])\n",
    "print(my_list[1])\n",
    "my_list.append('some other string')\n",
    "print(my_list)"
   ]
  },
  {
   "cell_type": "markdown",
   "metadata": {},
   "source": [
    "Consult the Python documentation online for more useful list functions.\n",
    "\n",
    "Since we'll be working a lot with matrices and vectors, we'll also mention numpy arrays here.  While we could represent matrices as just lists of lists of numbers, that would be a little inefficient to do math with.  Numpy has an array representation that is fast to access at arbitrary points, and it prefers to use this representation for matrix multiplication and similar operations.  You can create a 1D array that acts as a vector with numpy.array, which takes a list of numbers as an argument - or it can take a list of lists and return a 2D array that can represent a matrix.  Many numpy functions will automatically cast lists as arrays if they're passed in, but you may as well get in the habit of using numpy arrays for these from the beginning."
   ]
  },
  {
   "cell_type": "code",
   "execution_count": 87,
   "metadata": {},
   "outputs": [
    {
     "name": "stdout",
     "output_type": "stream",
     "text": [
      "[2 1]\n"
     ]
    }
   ],
   "source": [
    "switch = np.array([[0,1], [1, 0]])  # A matrix that swaps x and y on multiplication\n",
    "vec = np.array([1,2])\n",
    "print(np.matmul(switch,vec))"
   ]
  },
  {
   "cell_type": "markdown",
   "metadata": {},
   "source": [
    "## List Comprehensions and Plotting\n",
    "\n",
    "We'll often want to plot data to visualize it; the matplotlib library does this.  Let's generate some data to plot values for the `**` operator, which exponentiates.  (`a ** b` raises `a` to the power of `b`.)\n",
    "\n",
    "We can also demonstrate an interesting and useful construction in Python, the list comprehension, which maps a function to each item in a list.  Within square brackets, the function is described first, and then the rest looks like the beginning of a for loop.  This is a very common \"Python-y\" way of processing a list of numbers to produce another list, and feels a little like using \"map\" functions from Racket.\n",
    "\n",
    "If we want to plot some inputs x versus outputs y, a common way to do this is to create the list of inputs, then use a list comprehension to make the list of outputs.  But, there are a variety of ways to do this -- this is just a very common shorthand."
   ]
  },
  {
   "cell_type": "code",
   "execution_count": 80,
   "metadata": {},
   "outputs": [
    {
     "name": "stdout",
     "output_type": "stream",
     "text": [
      "range(0, 10)\n",
      "[0, 1, 4, 9, 16, 25, 36, 49, 64, 81]\n"
     ]
    }
   ],
   "source": [
    "x = range(10)\n",
    "y = [item ** 2 for item in x]\n",
    "print(x)\n",
    "print(y)"
   ]
  },
  {
   "cell_type": "markdown",
   "metadata": {},
   "source": [
    "With two lists, we can use matplotlib.pyplot to draw a scatter plot.  (If you run this from the command line, you should have a window spawn, but Jupyter will do it in-place.)  Point `(x[i], y[i])` will be plotted for each value of i."
   ]
  },
  {
   "cell_type": "code",
   "execution_count": 81,
   "metadata": {},
   "outputs": [
    {
     "data": {
      "text/plain": [
       "<matplotlib.collections.PathCollection at 0x11468bb70>"
      ]
     },
     "execution_count": 81,
     "metadata": {},
     "output_type": "execute_result"
    },
    {
     "data": {
      "image/png": "[encoded data removed]",
      "text/plain": [
       "<Figure size 432x288 with 1 Axes>"
      ]
     },
     "metadata": {
      "needs_background": "light"
     },
     "output_type": "display_data"
    }
   ],
   "source": [
    "import matplotlib.pyplot as plt\n",
    "\n",
    "plt.scatter(x, y)"
   ]
  },
  {
   "cell_type": "markdown",
   "metadata": {},
   "source": [
    "## Comments and Style\n",
    "\n",
    "Lastly, you can comment with a hash symbol (#) in Python anywhere you could comment with // in Java, and it will make everything to the end of the line readable by humans only."
   ]
  },
  {
   "cell_type": "code",
   "execution_count": 84,
   "metadata": {},
   "outputs": [
    {
     "name": "stdout",
     "output_type": "stream",
     "text": [
      "foo\n"
     ]
    }
   ],
   "source": [
    "# This is mostly just to demonstrate comments\n",
    "print('foo') # Foo: common word used by programmers when the meaning doesn't matter."
   ]
  },
  {
   "cell_type": "markdown",
   "metadata": {},
   "source": [
    "You could put a hash symbol before every line in a multiline comment, but it's also become conventional to just put this stuff in a multiline string, with the start and end marked by three double quotes (`\"\"\"`).  As long as it's not assigned, it'll behave like a comment."
   ]
  },
  {
   "cell_type": "code",
   "execution_count": 85,
   "metadata": {},
   "outputs": [
    {
     "data": {
      "text/plain": [
       "\"\\nWhere did the practice of using variable names such as 'foo' come from?\\nThe story is lost to the mists of time.\\nBut if you have five variables to name where the name doesn't matter, be sure\\nto name them 'foo', 'bar', 'baz', 'qux', and 'Griffin'.\\nThe last one isn't conventional; that's just a nice name.\\n\""
      ]
     },
     "execution_count": 85,
     "metadata": {},
     "output_type": "execute_result"
    }
   ],
   "source": [
    "\"\"\"\n",
    "Where did the practice of using variable names such as 'foo' come from?\n",
    "The story is lost to the mists of time.\n",
    "But if you have five variables to name where the name doesn't matter, be sure\n",
    "to name them 'foo', 'bar', 'baz', 'qux', and 'Griffin'.\n",
    "The last one isn't conventional; that's just a nice name.\n",
    "\"\"\""
   ]
  },
  {
   "cell_type": "markdown",
   "metadata": {},
   "source": [
    "Many software companies try to get programmers to write readable code by making long style guides for things like how and when to comment, and how to name variables; but this is arguably neither necessary nor sufficient for writing readable code.  In this class, try to obey the general dictum of \"write readable code\":  if it's not immediately clear what a function is supposed to do, or what you're trying to achieve with a convoluted line, add a comment.  (This is especially true if you look up a library function that the assignment didn't talk about, and then use it in your code.)  Notice that the more intuitive your variable names are, the less you need to explain.\n",
    "\n",
    "There are also ways to extend code onto the next line, but that tends to be bad style anyway.  If you're indenting so far or writing so much on one line that you're going off the edge of the screen, try breaking up your code into multiple lines and different functions some more.  You need to be able to easily read your code, too.\n",
    "\n",
    "If you are worried that you might be coding Python in an unconventional style, you could try to obey the [Google Python style rules](http://google.github.io/styleguide/pyguide.html).  But that is not required for this class.\n",
    "\n",
    "There's much more you can learn about Python, but we suggest just starting to write it!  Good luck!"
   ]
  },
  {
   "cell_type": "code",
   "execution_count": null,
   "metadata": {},
   "outputs": [],
   "source": []
  }
 ],
 "metadata": {
  "kernelspec": {
   "display_name": "Python 3",
   "language": "python",
   "name": "python3"
  },
  "language_info": {
   "codemirror_mode": {
    "name": "ipython",
    "version": 3
   },
   "file_extension": ".py",
   "mimetype": "text/x-python",
   "name": "python",
   "nbconvert_exporter": "python",
   "pygments_lexer": "ipython3",
   "version": "3.7.4"
  }
 },
 "nbformat": 4,
 "nbformat_minor": 2
}
